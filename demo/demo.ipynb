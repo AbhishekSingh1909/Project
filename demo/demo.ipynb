{
 "cells": [
  {
   "cell_type": "code",
   "execution_count": null,
   "metadata": {},
   "outputs": [],
   "source": [
    "import pandas as pd\n",
    "import streamlit as st\n",
    "\n",
    "# open file\n",
    "comsumption_data = pd.read_csv('consumption.csv', delimiter=';')\n",
    "new_price_data = pd.read_csv(\n",
    "    'new_sahkon-hinta-010121-231024.csv', delimiter=';')\n",
    "# display(comsumption_data.head())\n",
    "# display(new_price_data.head())"
   ]
  }
 ],
 "metadata": {
  "language_info": {
   "name": "python"
  }
 },
 "nbformat": 4,
 "nbformat_minor": 2
}
